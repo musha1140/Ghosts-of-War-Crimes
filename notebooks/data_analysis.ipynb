{
 "cells": [
  {
   "cell_type": "markdown",
   "metadata": {},
   "source": [
    "# Data Analysis\n",
    "\n",
    "This notebook performs exploratory data analysis for the Ghosts of War Crimes project."
   ]
  },
  {
   "cell_type": "code",
   "execution_count": null,
   "metadata": {},
   "outputs": [],
   "source": [
    "import pandas as pd\n",
    "import matplotlib.pyplot as plt\n",
    "import seaborn as sns\n",
    "\n",
    "# Load processed data\n",
    "processed_data_path = '../data/processed_data/processed_data.csv'\n",
    "data = pd.read_csv(processed_data_path)\n",
    "\n",
    "# Display basic statistics\n",
    "data.describe()"
   ]
  },
  {
   "cell_type": "code",
   "execution_count": null,
   "metadata": {},
   "outputs": [],
   "source": [
    "# Victims by Incident Type\n",
    "victims_by_type = data.groupby('Incident Type')['Number of Victims'].sum()\n",
    "plt.figure(figsize=(12, 8))\n",
    "victims_by_type.sort_values().plot(kind='bar', color='skyblue')\n",
    "plt.title('Number of Victims by Incident Type')\n",
    "plt.ylabel('Number of Victims')\n",
    "plt.xlabel('Incident Type')\n",
    "plt.xticks(rotation=45)\n",
    "plt.show()"
   ]
  },
  {
   "cell_type": "markdown",
   "metadata": {},
   "source": [
    "## Visualization: Incidents by Location"
   ]
  },
  {
   "cell_type": "code",
   "execution_count": null,
   "metadata": {},
   "outputs": [],
   "source": [
    "# Incidents by Location\n",
    "incidents_by_location = data['Location'].value_counts()\n",
    "plt.figure(figsize=(12, 8))\n",
    "incidents_by_location[:10].plot(kind='bar', color='green')\n",
    "plt.title('Top 10 Locations by Incident Count')\n",
    "plt.ylabel('Incident Count')\n",
    "plt.xlabel('Location')\n",
    "plt.xticks(rotation=45)\n",
    "plt.show()"
   ]
  },
  {
   "cell_type": "markdown",
   "metadata": {},
   "source": [
    "## Heatmap of Victims by Incident Type and Responsible Party"
   ]
  },
  {
   "cell_type": "code",
   "execution_count": null,
   "metadata": {},
   "outputs": [],
   "source": [
    "# Heatmap for Victims by Incident Type and Responsible Party\n",
    "pivot_table = data.pivot_table(\n",
    "    index='Incident Type',\n",
    "    columns='Responsible Party',\n",
    "    values='Number of Victims',\n",
    "    aggfunc='sum',\n",
    "    fill_value=0\n",
    ")\n",
    "\n",
    "plt.figure(figsize=(12, 8))\n",
    "sns.heatmap(pivot_table, cmap='Blues', annot=True, fmt='g')\n",
    "plt.title('Victims by Incident Type and Responsible Party')\n",
    "plt.ylabel('Incident Type')\n",
    "plt.xlabel('Responsible Party')\n",
    "plt.show()"
   ]
  }
 ],
 "metadata": {
  "language_info": {
   "name": "python"
  }
 },
 "nbformat": 4,
 "nbformat_minor": 2
}
