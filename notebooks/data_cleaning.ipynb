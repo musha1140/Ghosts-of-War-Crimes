import os

# Define folder structure and file names
base_path = "./Ghosts-of-War-Crimes"
notebooks_path = os.path.join(base_path, "notebooks")
os.makedirs(notebooks_path, exist_ok=True)

# Example Jupyter notebook content
notebooks_content = {
    "data_cleaning.ipynb": {
        "cells": [
            {
                "cell_type": "markdown",
                "metadata": {},
                "source": ["# Data Cleaning\n\nThis notebook demonstrates how to clean raw data for the Ghosts of War Crimes project."]
            },
            {
                "cell_type": "code",
                "execution_count": None,
                "metadata": {},
                "outputs": [],
                "source": [
                    "import pandas as pd\n\n# Load raw data\nraw_data_path = '../data/raw_data/war_crimes_large_dataset.csv'\ndata = pd.read_csv(raw_data_path)\n\n# Display raw data overview\ndata.head()"
                ]
            },
            {
                "cell_type": "code",
                "execution_count": None,
                "metadata": {},
                "outputs": [],
                "source": [
                    "# Clean data\n# Example: Remove duplicates and fill missing values\ndata = data.drop_duplicates()\ndata = data.fillna({'Number of Victims': 0})\n\n# Save processed data\nprocessed_data_path = '../data/processed_data/processed_data.csv'\ndata.to_csv(processed_data_path, index=False)\nprint(f\"Processed data saved to {processed_data_path}\")"
                ]
            }
        ],
        "metadata": {},
        "nbformat": 4,
        "nbformat_minor": 2
    },
    "data_analysis.ipynb": {
        "cells": [
            {
                "cell_type": "markdown",
                "metadata": {},
                "source": ["# Data Analysis\n\nThis notebook performs exploratory data analysis for the Ghosts of War Crimes project."]
            },
            {
                "cell_type": "code",
                "execution_count": None,
                "metadata": {},
                "outputs": [],
                "source": [
                    "import pandas as pd\nimport matplotlib.pyplot as plt\n\n# Load processed data\nprocessed_data_path = '../data/processed_data/processed_data.csv'\ndata = pd.read_csv(processed_data_path)\n\n# Display basic statistics\ndata.describe()"
                ]
            },
            {
                "cell_type": "code",
                "execution_count": None,
                "metadata": {},
                "outputs": [],
                "source": [
                    "# Example visualization: Victims by Incident Type\nvictims_by_type = data.groupby('Incident Type')['Number of Victims'].sum()\nvictims_by_type.plot(kind='bar', figsize=(10, 6))\nplt.title('Number of Victims by Incident Type')\nplt.ylabel('Number of Victims')\nplt.xlabel('Incident Type')\nplt.show()"
                ]
            }
        ],
        "metadata": {},
        "nbformat": 4,
        "nbformat_minor": 2
    }
}

# Write notebooks to files
for notebook_name, notebook_content in notebooks_content.items():
    notebook_path = os.path.join(notebooks_path, notebook_name)
    with open(notebook_path, "w") as f:
        import json
        json.dump(notebook_content, f, indent=4)

notebooks_path